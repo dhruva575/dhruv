{
 "cells": [
  {
   "cell_type": "markdown",
   "id": "4ca8ba50",
   "metadata": {},
   "source": [
    "# **Data Analysis & Insights Assignment**\n",
    "\n",
    "**Course:** Data Analysis & Insights\n",
    "\n",
    "**Student Name:** Your Name Here\n",
    "\n",
    "**Submission Date:** YYYY-MM-DD\n",
    "\n",
    "---"
   ]
  },
  {
   "cell_type": "markdown",
   "id": "4da886f1",
   "metadata": {},
   "source": [
    "## **Introduction**\n",
    "\n",
    "This notebook presents a detailed analysis of a synthetic dataset containing numerical and categorical variables. The goal is to perform:\n",
    "\n",
    "- **Data Cleaning** (handling missing values, duplicates, and outliers)\n",
    "- **Exploratory Data Analysis (EDA)** (univariate, bivariate, and multivariate analysis)\n",
    "- **Visualization and Interpretation**\n",
    "\n",
    "---"
   ]
  },
  {
   "cell_type": "code",
   "execution_count": null,
   "id": "518a78e6",
   "metadata": {},
   "outputs": [],
   "source": [
    "import pandas as pd\n",
    "import numpy as np\n",
    "import seaborn as sns\n",
    "import matplotlib.pyplot as plt\n",
    "\n",
    "# Set style\n",
    "sns.set_style('whitegrid')\n",
    "\n",
    "print('Libraries Imported Successfully!')"
   ]
  },
  {
   "cell_type": "markdown",
   "id": "1ad39d18",
   "metadata": {},
   "source": [
    "## **1. Dataset Creation**\n",
    "\n",
    "A synthetic dataset is generated with numerical and categorical variables, including missing values, duplicates, and outliers."
   ]
  },
  {
   "cell_type": "code",
   "execution_count": null,
   "id": "bb464a83",
   "metadata": {},
   "outputs": [],
   "source": [
    "# Set random seed\n",
    "np.random.seed(42)\n",
    "\n",
    "# Generate dataset\n",
    "num_records = 200\n",
    "\n",
    "data = {\n",
    "    'ID': np.arange(1, num_records + 1),\n",
    "    'Age': np.random.randint(18, 65, num_records),\n",
    "    'Salary': np.random.normal(50000, 15000, num_records).astype(int),\n",
    "    'Department': np.random.choice(['HR', 'IT', 'Finance', 'Marketing'], num_records),\n",
    "    'Experience': np.random.randint(0, 40, num_records),\n",
    "    'Satisfaction_Score': np.random.uniform(1, 10, num_records).round(1),\n",
    "}\n",
    "\n",
    "df = pd.DataFrame(data)\n",
    "\n",
    "# Introduce missing values & duplicates\n",
    "df.loc[df.sample(frac=0.05).index, ['Age', 'Salary', 'Department', 'Experience']] = np.nan\n",
    "df = pd.concat([df, df.iloc[:5]], ignore_index=True)\n",
    "\n",
    "# Introduce salary outliers\n",
    "df.loc[df.sample(3).index, 'Salary'] = [200000, 220000, 250000]\n",
    "\n",
    "df.head()"
   ]
  },
  {
   "cell_type": "markdown",
   "id": "72f755ee",
   "metadata": {},
   "source": [
    "## **2. Data Cleaning**\n",
    "\n",
    "This section covers:\n",
    "\n",
    "- Handling missing values\n",
    "- Removing duplicate records\n",
    "- Identifying and treating outliers"
   ]
  },
  {
   "cell_type": "code",
   "execution_count": null,
   "id": "2eee859f",
   "metadata": {},
   "outputs": [],
   "source": [
    "# Check missing values\n",
    "print(df.isnull().sum())\n",
    "\n",
    "# Fill missing numerical values with median\n",
    "num_cols = ['Age', 'Salary', 'Experience']\n",
    "for col in num_cols:\n",
    "    df[col].fillna(df[col].median(), inplace=True)\n",
    "\n",
    "# Fill missing categorical values with mode\n",
    "df['Department'].fillna(df['Department'].mode()[0], inplace=True)\n",
    "\n",
    "# Remove duplicate records\n",
    "df = df.drop_duplicates()\n",
    "\n",
    "print('Data Cleaning Completed!')"
   ]
  },
  {
   "cell_type": "code",
   "execution_count": null,
   "id": "66ec45fa",
   "metadata": {},
   "outputs": [],
   "source": [
    "# Outlier detection using IQR\n",
    "Q1 = df['Salary'].quantile(0.25)\n",
    "Q3 = df['Salary'].quantile(0.75)\n",
    "IQR = Q3 - Q1\n",
    "lower_bound = Q1 - 1.5 * IQR\n",
    "upper_bound = Q3 + 1.5 * IQR\n",
    "\n",
    "# Capping outliers\n",
    "df['Salary'] = np.where(df['Salary'] > upper_bound, upper_bound, df['Salary'])\n",
    "\n",
    "print('Outliers Treated!')"
   ]
  },
  {
   "cell_type": "markdown",
   "id": "4df0b98e",
   "metadata": {},
   "source": [
    "## **3. Exploratory Data Analysis (EDA)**\n",
    "\n",
    "This section covers:\n",
    "\n",
    "- **Univariate Analysis** (distribution of individual variables)\n",
    "- **Bivariate Analysis** (relationships between two variables)\n",
    "- **Multivariate Analysis** (combined effects of multiple variables)\n",
    "\n",
    "---"
   ]
  },
  {
   "cell_type": "code",
   "execution_count": null,
   "id": "aad22c5a",
   "metadata": {},
   "outputs": [],
   "source": [
    "# Summary statistics\n",
    "print(df.describe())\n",
    "\n",
    "# Histograms\n",
    "df.hist(figsize=(10, 6), bins=20, edgecolor='black')\n",
    "plt.show()"
   ]
  },
  {
   "cell_type": "code",
   "execution_count": null,
   "id": "f642208c",
   "metadata": {},
   "outputs": [],
   "source": [
    "# Correlation matrix\n",
    "plt.figure(figsize=(8,6))\n",
    "sns.heatmap(df.corr(), annot=True, cmap='coolwarm')\n",
    "plt.show()\n",
    "\n",
    "# Scatter plot: Age vs. Salary\n",
    "sns.scatterplot(x='Age', y='Salary', data=df, hue='Department')\n",
    "plt.show()"
   ]
  },
  {
   "cell_type": "code",
   "execution_count": null,
   "id": "ba6c571a",
   "metadata": {},
   "outputs": [],
   "source": [
    "# Pair Plot\n",
    "sns.pairplot(df, hue='Department')\n",
    "plt.show()"
   ]
  },
  {
   "cell_type": "markdown",
   "id": "5325bd9a",
   "metadata": {},
   "source": [
    "## **4. Conclusion**\n",
    "\n",
    "### **Key Findings:**\n",
    "\n",
    "- Missing values were handled using median/mode imputation.\n",
    "- Duplicate records were removed to ensure data integrity.\n",
    "- Outliers in salary were detected using the IQR method and capped.\n",
    "- **EDA revealed:**\n",
    "  - Salary distributions vary significantly across departments.\n",
    "  - Experience and Salary have a strong positive correlation.\n",
    "  - Marketing and Finance departments tend to have higher satisfaction scores.\n",
    "\n",
    "---\n",
    "**This notebook is ready for submission.**\n",
    "---"
   ]
  }
 ],
 "metadata": {
  "kernelspec": {
   "display_name": "Python 3",
   "name": "python3"
  },
  "language_info": {
   "name": "python",
   "version": "3.x"
  }
 },
 "nbformat": 4,
 "nbformat_minor": 5
}